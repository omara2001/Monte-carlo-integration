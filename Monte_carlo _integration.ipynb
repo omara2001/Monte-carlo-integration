{
 "cells": [
  {
   "cell_type": "markdown",
   "metadata": {},
   "source": [
    "Name:Mohamed Yasser Ahmed Mahmoud Omara \n",
    "\n",
    "ID:20191476257"
   ]
  },
  {
   "cell_type": "markdown",
   "metadata": {},
   "source": [
    "#                          Monte_Carlo _Integration"
   ]
  },
  {
   "cell_type": "code",
   "execution_count": 1,
   "metadata": {},
   "outputs": [
    {
     "data": {
      "image/png": "[encoded data removed]",
      "text/plain": [
       "<Figure size 432x288 with 1 Axes>"
      ]
     },
     "metadata": {
      "needs_background": "light"
     },
     "output_type": "display_data"
    }
   ],
   "source": [
    "from scipy import random\n",
    "import numpy as np\n",
    "import matplotlib.pyplot as plt\n",
    "\n",
    "# limits of integration\n",
    "a = 2\n",
    "b = 5\n",
    "N = 1000\n",
    "\n",
    "def f(x):\n",
    "\treturn x\n",
    "plt_vals = []\n",
    "\n",
    "for i in range(N):\n",
    "\tar = np.zeros(N)\n",
    "\tfor i in range (len(ar)):\n",
    "\t\tar[i] = random.uniform(a,b)\n",
    "\tintegral = 0.0\n",
    "\tfor i in ar:\n",
    "\t\tintegral += f(i)\n",
    "\tans = (b-a)/float(N)*integral\n",
    "\tplt_vals.append(ans)\n",
    "    \n",
    "plt.title(\"Distributions of areas calculated\")\n",
    "\n",
    "plt.hist (plt_vals, bins=30, ec=\"black\")\n",
    "plt.xlabel(\"Areas\")\n",
    "plt.show() \n",
    "\n"
   ]
  },
  {
   "cell_type": "code",
   "execution_count": 2,
   "metadata": {},
   "outputs": [],
   "source": [
    "def monte_carlo(func,\n",
    "                a=0,\n",
    "                b=1,\n",
    "                n=1000):\n",
    "    \"\"\"\n",
    "    Monte Carlo integration\n",
    "    \"\"\"\n",
    "    \n",
    "    u = np.random.uniform(size=n)\n",
    "    u_func = func(a+(b-a)*u)\n",
    "    s = ((b-a)/n)*u_func.sum()\n",
    "    \n",
    "    return s\n"
   ]
  },
  {
   "cell_type": "code",
   "execution_count": 3,
   "metadata": {},
   "outputs": [
    {
     "name": "stdout",
     "output_type": "stream",
     "text": [
      "10.969232843654359\n"
     ]
    }
   ],
   "source": [
    "inte = monte_carlo(f,a=2,b=5,n=100)\n",
    "print(inte)"
   ]
  },
  {
   "cell_type": "markdown",
   "metadata": {},
   "source": [
    "### Another version with 10-spaced sampling"
   ]
  },
  {
   "cell_type": "code",
   "execution_count": 4,
   "metadata": {},
   "outputs": [],
   "source": [
    "def monte_carlo_uniform(func,\n",
    "                a=2,\n",
    "                b=5,\n",
    "                n=1000):\n",
    "    \"\"\"\n",
    "    Monte Carlo integration with more uniform spread (forced)\n",
    "    \"\"\"\n",
    "    subsets = np.arange(0,n+1,n/10)\n",
    "    steps = n/10\n",
    "    u = np.zeros(n)\n",
    "    for i in range(10):\n",
    "        start = int(subsets[i])\n",
    "        end = int(subsets[i+1])\n",
    "        u[start:end] = np.random.uniform(low=i/10,high=(i+1)/10,size=end-start)\n",
    "    np.random.shuffle(u)\n",
    "    #plt.hist(u)\n",
    "    #u = np.random.uniform(size=n)\n",
    "    u_func = func(a+(b-a)*u)\n",
    "    s = ((b-a)/n)*u_func.sum()\n",
    "    \n",
    "    return s"
   ]
  },
  {
   "cell_type": "code",
   "execution_count": 5,
   "metadata": {},
   "outputs": [
    {
     "name": "stdout",
     "output_type": "stream",
     "text": [
      "10.52303151729481\n"
     ]
    }
   ],
   "source": [
    "inte = monte_carlo_uniform(f,a=2,b=5,n=100)\n",
    "print(inte)"
   ]
  }
 ],
 "metadata": {
  "kernelspec": {
   "display_name": "Python 3",
   "language": "python",
   "name": "python3"
  },
  "language_info": {
   "codemirror_mode": {
    "name": "ipython",
    "version": 3
   },
   "file_extension": ".py",
   "mimetype": "text/x-python",
   "name": "python",
   "nbconvert_exporter": "python",
   "pygments_lexer": "ipython3",
   "version": "3.8.3"
  }
 },
 "nbformat": 4,
 "nbformat_minor": 4
}
