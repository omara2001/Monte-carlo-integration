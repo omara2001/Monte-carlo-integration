{
 "cells": [
  {
   "cell_type": "markdown",
   "metadata": {},
   "source": [
    "# Numerical Integration_Monte_carlo"
   ]
  },
  {
   "cell_type": "code",
   "execution_count": 1,
   "metadata": {},
   "outputs": [],
   "source": [
    "lower = 2\n",
    "upper = 5\n",
    "power = 1\n",
    "num_of_RN = 10\n",
    "width = 3\n",
    "length = 140\n",
    "RNs_for_x = [22,25,18,45,25,27,48,43,40,47]\n",
    "RNs_for_y = [57,18,0,90,5,77,66,10,76,42]\n"
   ]
  },
  {
   "cell_type": "code",
   "execution_count": 2,
   "metadata": {},
   "outputs": [
    {
     "data": {
      "text/html": [
       "<div>\n",
       "<style scoped>\n",
       "    .dataframe tbody tr th:only-of-type {\n",
       "        vertical-align: middle;\n",
       "    }\n",
       "\n",
       "    .dataframe tbody tr th {\n",
       "        vertical-align: top;\n",
       "    }\n",
       "\n",
       "    .dataframe thead th {\n",
       "        text-align: right;\n",
       "    }\n",
       "</style>\n",
       "<table border=\"1\" class=\"dataframe\">\n",
       "  <thead>\n",
       "    <tr style=\"text-align: right;\">\n",
       "      <th></th>\n",
       "      <th>RN for X</th>\n",
       "      <th>X coordinate</th>\n",
       "      <th>RN for Y</th>\n",
       "      <th>Y coordinate</th>\n",
       "      <th>X</th>\n",
       "      <th>M</th>\n",
       "      <th>N</th>\n",
       "    </tr>\n",
       "  </thead>\n",
       "  <tbody>\n",
       "    <tr>\n",
       "      <th>0</th>\n",
       "      <td>22.0</td>\n",
       "      <td>2.2</td>\n",
       "      <td>0.57</td>\n",
       "      <td>79.8</td>\n",
       "      <td>2.2</td>\n",
       "      <td>0.0</td>\n",
       "      <td>1.0</td>\n",
       "    </tr>\n",
       "    <tr>\n",
       "      <th>1</th>\n",
       "      <td>25.0</td>\n",
       "      <td>2.5</td>\n",
       "      <td>0.18</td>\n",
       "      <td>25.2</td>\n",
       "      <td>2.5</td>\n",
       "      <td>0.0</td>\n",
       "      <td>2.0</td>\n",
       "    </tr>\n",
       "    <tr>\n",
       "      <th>2</th>\n",
       "      <td>18.0</td>\n",
       "      <td>1.8</td>\n",
       "      <td>0.18</td>\n",
       "      <td>0.0</td>\n",
       "      <td>1.8</td>\n",
       "      <td>1.0</td>\n",
       "      <td>3.0</td>\n",
       "    </tr>\n",
       "    <tr>\n",
       "      <th>3</th>\n",
       "      <td>45.0</td>\n",
       "      <td>4.5</td>\n",
       "      <td>0.90</td>\n",
       "      <td>126.0</td>\n",
       "      <td>4.5</td>\n",
       "      <td>1.0</td>\n",
       "      <td>4.0</td>\n",
       "    </tr>\n",
       "    <tr>\n",
       "      <th>4</th>\n",
       "      <td>25.0</td>\n",
       "      <td>2.5</td>\n",
       "      <td>0.05</td>\n",
       "      <td>7.0</td>\n",
       "      <td>2.5</td>\n",
       "      <td>1.0</td>\n",
       "      <td>5.0</td>\n",
       "    </tr>\n",
       "    <tr>\n",
       "      <th>5</th>\n",
       "      <td>27.0</td>\n",
       "      <td>2.7</td>\n",
       "      <td>0.77</td>\n",
       "      <td>107.8</td>\n",
       "      <td>2.7</td>\n",
       "      <td>1.0</td>\n",
       "      <td>6.0</td>\n",
       "    </tr>\n",
       "    <tr>\n",
       "      <th>6</th>\n",
       "      <td>48.0</td>\n",
       "      <td>4.8</td>\n",
       "      <td>0.66</td>\n",
       "      <td>92.4</td>\n",
       "      <td>4.8</td>\n",
       "      <td>1.0</td>\n",
       "      <td>7.0</td>\n",
       "    </tr>\n",
       "    <tr>\n",
       "      <th>7</th>\n",
       "      <td>43.0</td>\n",
       "      <td>4.3</td>\n",
       "      <td>0.10</td>\n",
       "      <td>14.0</td>\n",
       "      <td>4.3</td>\n",
       "      <td>1.0</td>\n",
       "      <td>8.0</td>\n",
       "    </tr>\n",
       "    <tr>\n",
       "      <th>8</th>\n",
       "      <td>40.0</td>\n",
       "      <td>4.0</td>\n",
       "      <td>0.76</td>\n",
       "      <td>106.4</td>\n",
       "      <td>4.0</td>\n",
       "      <td>1.0</td>\n",
       "      <td>9.0</td>\n",
       "    </tr>\n",
       "    <tr>\n",
       "      <th>9</th>\n",
       "      <td>47.0</td>\n",
       "      <td>4.7</td>\n",
       "      <td>0.42</td>\n",
       "      <td>58.8</td>\n",
       "      <td>4.7</td>\n",
       "      <td>1.0</td>\n",
       "      <td>10.0</td>\n",
       "    </tr>\n",
       "  </tbody>\n",
       "</table>\n",
       "</div>"
      ],
      "text/plain": [
       "   RN for X  X coordinate  RN for Y  Y coordinate    X    M     N\n",
       "0      22.0           2.2      0.57          79.8  2.2  0.0   1.0\n",
       "1      25.0           2.5      0.18          25.2  2.5  0.0   2.0\n",
       "2      18.0           1.8      0.18           0.0  1.8  1.0   3.0\n",
       "3      45.0           4.5      0.90         126.0  4.5  1.0   4.0\n",
       "4      25.0           2.5      0.05           7.0  2.5  1.0   5.0\n",
       "5      27.0           2.7      0.77         107.8  2.7  1.0   6.0\n",
       "6      48.0           4.8      0.66          92.4  4.8  1.0   7.0\n",
       "7      43.0           4.3      0.10          14.0  4.3  1.0   8.0\n",
       "8      40.0           4.0      0.76         106.4  4.0  1.0   9.0\n",
       "9      47.0           4.7      0.42          58.8  4.7  1.0  10.0"
      ]
     },
     "execution_count": 2,
     "metadata": {},
     "output_type": "execute_result"
    }
   ],
   "source": [
    "import pandas as pd\n",
    "import matplotlib.pyplot as plt\n",
    "import numpy as np\n",
    "from scipy import random\n",
    "result = pd.DataFrame({}, columns=['RN for X', 'X coordinate', 'RN for Y', 'Y coordinate', 'X', 'M', 'N'])\n",
    "\n",
    "Area = length * width \n",
    "M=0\n",
    "N=10\n",
    "for i in range(0, num_of_RN):\n",
    "    RN_for_x = RNs_for_x[i]\n",
    "    x_cor = RN_for_x/10\n",
    "    function = x_cor ** power\n",
    "    if x_cor > lower and x_cor < upper:\n",
    "        RN_for_y = RNs_for_y[i] / 100\n",
    "        y_cor = RN_for_y * length\n",
    "    else:\n",
    "        y_cor = 0\n",
    "    if y_cor < function:\n",
    "        M =M + 1\n",
    "    else:\n",
    "        M = M + 0\n",
    "    row = { \"RN for X\": RN_for_x , \"X coordinate\": x_cor, \"RN for Y\": RN_for_y, \n",
    "           \"Y coordinate\": y_cor, \"X\": function, 'M':M, 'N': i+1}\n",
    "    result = result.append(row,  ignore_index=True)\n",
    "result"
   ]
  },
  {
   "cell_type": "code",
   "execution_count": 29,
   "metadata": {},
   "outputs": [
    {
     "data": {
      "text/plain": [
       "42.0"
      ]
     },
     "execution_count": 29,
     "metadata": {},
     "output_type": "execute_result"
    }
   ],
   "source": [
    "(M/N) * Area"
   ]
  },
  {
   "cell_type": "code",
   "execution_count": 30,
   "metadata": {},
   "outputs": [
    {
     "data": {
      "image/png": "[encoded data removed]",
      "text/plain": [
       "<Figure size 432x288 with 1 Axes>"
      ]
     },
     "metadata": {
      "needs_background": "light"
     },
     "output_type": "display_data"
    }
   ],
   "source": [
    "def f(x):\n",
    "\treturn x\n",
    "plt_vals = []\n",
    "\n",
    "for i in range(N):\n",
    "\tar = np.zeros(N)\n",
    "\tfor i in range (len(ar)):\n",
    "\t\tar[i] = random.uniform(lower,upper)\n",
    "\tintegral = 0.0\n",
    "\tfor i in ar:\n",
    "\t\tintegral += f(i)\n",
    "\tans = (upper-lower)/float(N)*integral\n",
    "\tplt_vals.append(ans)\n",
    "plt.title(\"Distributions of areas calculated\")\n",
    "\n",
    "plt.hist (plt_vals, bins=30, ec=\"black\")\n",
    "plt.xlabel(\"Area\")\n",
    "plt.show() \n"
   ]
  }
 ],
 "metadata": {
  "kernelspec": {
   "display_name": "Python 3",
   "language": "python",
   "name": "python3"
  },
  "language_info": {
   "codemirror_mode": {
    "name": "ipython",
    "version": 3
   },
   "file_extension": ".py",
   "mimetype": "text/x-python",
   "name": "python",
   "nbconvert_exporter": "python",
   "pygments_lexer": "ipython3",
   "version": "3.8.3"
  }
 },
 "nbformat": 4,
 "nbformat_minor": 5
}
